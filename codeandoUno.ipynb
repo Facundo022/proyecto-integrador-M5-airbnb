{
 "cells": [
  {
   "cell_type": "code",
   "execution_count": 1,
   "metadata": {},
   "outputs": [],
   "source": [
    "#Como primer paso para el proyecto buscare realizar una lectura por arriba, sobre todo para buscar errores o faltantes en los datos.\n",
    "#esto facilitaria eventualmente el analicis de los datos y la extraccion de sus respectivas concluciones.\n",
    "\n",
    "# se importa la/las librerias a utilizar para el proyecto\n",
    "import pandas as pd\n",
    "import matplotlib as mpl"
   ]
  },
  {
   "cell_type": "code",
   "execution_count": 2,
   "metadata": {},
   "outputs": [],
   "source": [
    "# se utilizan Data Frames de la libreria pandas para realizar una lectura mas facilmente\n",
    "dfCalendar = pd.read_csv('base de datos AirBnB\\calendar.csv')\n",
    "dfListing = pd.read_csv('base de datos AirBnB\\listings.csv', low_memory= False)\n",
    "dfReviews = pd.read_csv('./base de datos AirBnB/reviews.csv')"
   ]
  },
  {
   "cell_type": "code",
   "execution_count": 3,
   "metadata": {},
   "outputs": [
    {
     "name": "stdout",
     "output_type": "stream",
     "text": [
      "<class 'pandas.core.frame.DataFrame'>\n",
      "RangeIndex: 8661286 entries, 0 to 8661285\n",
      "Data columns (total 7 columns):\n",
      " #   Column          Dtype  \n",
      "---  ------          -----  \n",
      " 0   listing_id      int64  \n",
      " 1   date            object \n",
      " 2   available       object \n",
      " 3   price           object \n",
      " 4   adjusted_price  object \n",
      " 5   minimum_nights  float64\n",
      " 6   maximum_nights  float64\n",
      "dtypes: float64(2), int64(1), object(4)\n",
      "memory usage: 462.6+ MB\n"
     ]
    }
   ],
   "source": [
    "dfCalendar.info()\n",
    "# cantidad de columnas 7\n",
    "# tipos de datos\n",
    "# 8661286 entradas"
   ]
  },
  {
   "cell_type": "code",
   "execution_count": 4,
   "metadata": {},
   "outputs": [
    {
     "data": {
      "text/html": [
       "<div>\n",
       "<style scoped>\n",
       "    .dataframe tbody tr th:only-of-type {\n",
       "        vertical-align: middle;\n",
       "    }\n",
       "\n",
       "    .dataframe tbody tr th {\n",
       "        vertical-align: top;\n",
       "    }\n",
       "\n",
       "    .dataframe thead th {\n",
       "        text-align: right;\n",
       "    }\n",
       "</style>\n",
       "<table border=\"1\" class=\"dataframe\">\n",
       "  <thead>\n",
       "    <tr style=\"text-align: right;\">\n",
       "      <th></th>\n",
       "      <th>listing_id</th>\n",
       "      <th>date</th>\n",
       "      <th>available</th>\n",
       "      <th>price</th>\n",
       "      <th>adjusted_price</th>\n",
       "      <th>minimum_nights</th>\n",
       "      <th>maximum_nights</th>\n",
       "    </tr>\n",
       "  </thead>\n",
       "  <tbody>\n",
       "    <tr>\n",
       "      <th>0</th>\n",
       "      <td>50778</td>\n",
       "      <td>2020-04-26</td>\n",
       "      <td>f</td>\n",
       "      <td>$2,655.00</td>\n",
       "      <td>$2,655.00</td>\n",
       "      <td>5.0</td>\n",
       "      <td>1125.0</td>\n",
       "    </tr>\n",
       "    <tr>\n",
       "      <th>1</th>\n",
       "      <td>133654</td>\n",
       "      <td>2020-04-27</td>\n",
       "      <td>t</td>\n",
       "      <td>$1,150.00</td>\n",
       "      <td>$1,150.00</td>\n",
       "      <td>4.0</td>\n",
       "      <td>1125.0</td>\n",
       "    </tr>\n",
       "    <tr>\n",
       "      <th>2</th>\n",
       "      <td>133654</td>\n",
       "      <td>2020-04-28</td>\n",
       "      <td>t</td>\n",
       "      <td>$1,150.00</td>\n",
       "      <td>$1,150.00</td>\n",
       "      <td>4.0</td>\n",
       "      <td>1125.0</td>\n",
       "    </tr>\n",
       "    <tr>\n",
       "      <th>3</th>\n",
       "      <td>133654</td>\n",
       "      <td>2020-04-29</td>\n",
       "      <td>t</td>\n",
       "      <td>$1,150.00</td>\n",
       "      <td>$1,150.00</td>\n",
       "      <td>4.0</td>\n",
       "      <td>1125.0</td>\n",
       "    </tr>\n",
       "    <tr>\n",
       "      <th>4</th>\n",
       "      <td>133654</td>\n",
       "      <td>2020-04-30</td>\n",
       "      <td>t</td>\n",
       "      <td>$1,150.00</td>\n",
       "      <td>$1,150.00</td>\n",
       "      <td>4.0</td>\n",
       "      <td>1125.0</td>\n",
       "    </tr>\n",
       "  </tbody>\n",
       "</table>\n",
       "</div>"
      ],
      "text/plain": [
       "   listing_id        date available      price adjusted_price  minimum_nights  \\\n",
       "0       50778  2020-04-26         f  $2,655.00      $2,655.00             5.0   \n",
       "1      133654  2020-04-27         t  $1,150.00      $1,150.00             4.0   \n",
       "2      133654  2020-04-28         t  $1,150.00      $1,150.00             4.0   \n",
       "3      133654  2020-04-29         t  $1,150.00      $1,150.00             4.0   \n",
       "4      133654  2020-04-30         t  $1,150.00      $1,150.00             4.0   \n",
       "\n",
       "   maximum_nights  \n",
       "0          1125.0  \n",
       "1          1125.0  \n",
       "2          1125.0  \n",
       "3          1125.0  \n",
       "4          1125.0  "
      ]
     },
     "execution_count": 4,
     "metadata": {},
     "output_type": "execute_result"
    }
   ],
   "source": [
    "# al ver el contenido de los archivos decidi renombrarlos para mi mejor entendimiento y empezar a extraer informacion no util.\n",
    "dfCalendar.head()"
   ]
  },
  {
   "cell_type": "code",
   "execution_count": null,
   "metadata": {},
   "outputs": [],
   "source": []
  },
  {
   "cell_type": "code",
   "execution_count": null,
   "metadata": {},
   "outputs": [],
   "source": []
  }
 ],
 "metadata": {
  "kernelspec": {
   "display_name": "Python 3",
   "language": "python",
   "name": "python3"
  },
  "language_info": {
   "codemirror_mode": {
    "name": "ipython",
    "version": 3
   },
   "file_extension": ".py",
   "mimetype": "text/x-python",
   "name": "python",
   "nbconvert_exporter": "python",
   "pygments_lexer": "ipython3",
   "version": "3.11.6"
  }
 },
 "nbformat": 4,
 "nbformat_minor": 2
}
